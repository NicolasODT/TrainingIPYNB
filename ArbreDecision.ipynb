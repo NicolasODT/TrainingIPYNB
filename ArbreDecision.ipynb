{
 "cells": [
  {
   "cell_type": "code",
   "execution_count": 119,
   "metadata": {},
   "outputs": [],
   "source": [
    "import pandas as pd\n",
    "from sklearn.tree import DecisionTreeClassifier\n",
    "from sklearn.model_selection import train_test_split\n",
    "from sklearn import metrics"
   ]
  },
  {
   "cell_type": "code",
   "execution_count": 128,
   "metadata": {},
   "outputs": [
    {
     "ename": "AttributeError",
     "evalue": "'DataFrame' object has no attribute 'ilox'",
     "output_type": "error",
     "traceback": [
      "\u001b[1;31m---------------------------------------------------------------------------\u001b[0m",
      "\u001b[1;31mAttributeError\u001b[0m                            Traceback (most recent call last)",
      "\u001b[1;32m~\\AppData\\Local\\Temp\\ipykernel_21480\\4194360525.py\u001b[0m in \u001b[0;36m?\u001b[1;34m()\u001b[0m\n\u001b[0;32m      1\u001b[0m \u001b[0mcal_name\u001b[0m \u001b[1;33m=\u001b[0m \u001b[1;33m[\u001b[0m\u001b[1;34m'work_year'\u001b[0m\u001b[1;33m,\u001b[0m\u001b[1;34m'experience_level'\u001b[0m\u001b[1;33m,\u001b[0m\u001b[1;34m'employment_type'\u001b[0m\u001b[1;33m,\u001b[0m\u001b[1;34m'job_title'\u001b[0m\u001b[1;33m,\u001b[0m\u001b[1;34m'salary'\u001b[0m\u001b[1;33m,\u001b[0m\u001b[1;34m'salary_currency'\u001b[0m\u001b[1;33m,\u001b[0m\u001b[1;34m'salary_in_usd'\u001b[0m\u001b[1;33m,\u001b[0m\u001b[1;34m'employee_residence'\u001b[0m\u001b[1;33m,\u001b[0m\u001b[1;34m'remote_ratio'\u001b[0m\u001b[1;33m,\u001b[0m\u001b[1;34m'company_location'\u001b[0m\u001b[1;33m,\u001b[0m\u001b[1;34m'company_size'\u001b[0m\u001b[1;33m]\u001b[0m\u001b[1;33m\u001b[0m\u001b[1;33m\u001b[0m\u001b[0m\n\u001b[0;32m      2\u001b[0m \u001b[0mdata\u001b[0m \u001b[1;33m=\u001b[0m \u001b[0mpd\u001b[0m\u001b[1;33m.\u001b[0m\u001b[0mread_csv\u001b[0m\u001b[1;33m(\u001b[0m\u001b[1;34m'salaries.csv'\u001b[0m\u001b[1;33m,\u001b[0m \u001b[0mnames\u001b[0m\u001b[1;33m=\u001b[0m\u001b[0mcal_name\u001b[0m\u001b[1;33m,\u001b[0m \u001b[0mheader\u001b[0m\u001b[1;33m=\u001b[0m\u001b[1;32mNone\u001b[0m\u001b[1;33m)\u001b[0m\u001b[1;33m\u001b[0m\u001b[1;33m\u001b[0m\u001b[0m\n\u001b[1;32m----> 3\u001b[1;33m \u001b[0mdata\u001b[0m\u001b[1;33m.\u001b[0m\u001b[0milox\u001b[0m\u001b[1;33m[\u001b[0m\u001b[1;36m0\u001b[0m\u001b[1;33m:\u001b[0m\u001b[1;36m10\u001b[0m\u001b[1;33m]\u001b[0m\u001b[1;33m\u001b[0m\u001b[1;33m\u001b[0m\u001b[0m\n\u001b[0m",
      "\u001b[1;32mc:\\Users\\nicot\\AppData\\Local\\Programs\\Python\\Python311\\Lib\\site-packages\\pandas\\core\\generic.py\u001b[0m in \u001b[0;36m?\u001b[1;34m(self, name)\u001b[0m\n\u001b[0;32m   5985\u001b[0m             \u001b[1;32mand\u001b[0m \u001b[0mname\u001b[0m \u001b[1;32mnot\u001b[0m \u001b[1;32min\u001b[0m \u001b[0mself\u001b[0m\u001b[1;33m.\u001b[0m\u001b[0m_accessors\u001b[0m\u001b[1;33m\u001b[0m\u001b[1;33m\u001b[0m\u001b[0m\n\u001b[0;32m   5986\u001b[0m             \u001b[1;32mand\u001b[0m \u001b[0mself\u001b[0m\u001b[1;33m.\u001b[0m\u001b[0m_info_axis\u001b[0m\u001b[1;33m.\u001b[0m\u001b[0m_can_hold_identifiers_and_holds_name\u001b[0m\u001b[1;33m(\u001b[0m\u001b[0mname\u001b[0m\u001b[1;33m)\u001b[0m\u001b[1;33m\u001b[0m\u001b[1;33m\u001b[0m\u001b[0m\n\u001b[0;32m   5987\u001b[0m         ):\n\u001b[0;32m   5988\u001b[0m             \u001b[1;32mreturn\u001b[0m \u001b[0mself\u001b[0m\u001b[1;33m[\u001b[0m\u001b[0mname\u001b[0m\u001b[1;33m]\u001b[0m\u001b[1;33m\u001b[0m\u001b[1;33m\u001b[0m\u001b[0m\n\u001b[1;32m-> 5989\u001b[1;33m         \u001b[1;32mreturn\u001b[0m \u001b[0mobject\u001b[0m\u001b[1;33m.\u001b[0m\u001b[0m__getattribute__\u001b[0m\u001b[1;33m(\u001b[0m\u001b[0mself\u001b[0m\u001b[1;33m,\u001b[0m \u001b[0mname\u001b[0m\u001b[1;33m)\u001b[0m\u001b[1;33m\u001b[0m\u001b[1;33m\u001b[0m\u001b[0m\n\u001b[0m",
      "\u001b[1;31mAttributeError\u001b[0m: 'DataFrame' object has no attribute 'ilox'"
     ]
    }
   ],
   "source": [
    "\n",
    "cal_name = ['work_year','experience_level','employment_type','job_title','salary','salary_currency','salary_in_usd','employee_residence','remote_ratio','company_location','company_size']\n",
    "data = pd.read_csv('salaries.csv', names=cal_name, header=None)\n",
    "data.ilox[0:10]"
   ]
  },
  {
   "cell_type": "code",
   "execution_count": 121,
   "metadata": {},
   "outputs": [],
   "source": [
    "feature_cols = ['experience_level','employment_type','job_title','salary_currency','employee_residence','company_location','company_size']\n",
    "X = data[feature_cols]\n",
    "Y = data['salary_in_usd']"
   ]
  },
  {
   "cell_type": "code",
   "execution_count": 122,
   "metadata": {},
   "outputs": [
    {
     "name": "stdout",
     "output_type": "stream",
     "text": [
      "   work_year  experience_level  employment_type  job_title  salary   \n",
      "0       2023                 2                2         47  100000  \\\n",
      "1       2023                 2                2         52  128750   \n",
      "2       2023                 2                2         52   79350   \n",
      "3       2023                 2                2         41   60000   \n",
      "4       2023                 2                2         41   55000   \n",
      "\n",
      "   salary_currency  salary_in_usd  employee_residence  remote_ratio   \n",
      "0               19         100000                  75           100  \\\n",
      "1               19         128750                  75             0   \n",
      "2               19          79350                  75             0   \n",
      "3                7          73391                  29             0   \n",
      "4                7          67275                  29             0   \n",
      "\n",
      "   company_location  company_size  \n",
      "0                66             1  \n",
      "1                66             1  \n",
      "2                66             1  \n",
      "3                25             1  \n",
      "4                25             1  \n"
     ]
    }
   ],
   "source": [
    "from sklearn import preprocessing\n",
    "label_encoder = preprocessing.LabelEncoder()\n",
    "data['experience_level']= label_encoder.fit_transform(data['experience_level'])\n",
    "data['employment_type']= label_encoder.fit_transform(data['employment_type'])\n",
    "data['job_title']= label_encoder.fit_transform(data['job_title'])\n",
    "data['salary_currency']= label_encoder.fit_transform(data['salary_currency'])\n",
    "data['employee_residence']= label_encoder.fit_transform(data['employee_residence'])\n",
    "data['company_location']= label_encoder.fit_transform(data['company_location'])\n",
    "data['company_size']= label_encoder.fit_transform(data['company_size'])\n",
    "print(data.head())\n"
   ]
  },
  {
   "cell_type": "code",
   "execution_count": 123,
   "metadata": {},
   "outputs": [
    {
     "name": "stdout",
     "output_type": "stream",
     "text": [
      "      experience_level  employment_type  job_title  salary_currency   \n",
      "0                    2                2         47               19  \\\n",
      "1                    2                2         52               19   \n",
      "2                    2                2         52               19   \n",
      "3                    2                2         41                7   \n",
      "4                    2                2         41                7   \n",
      "...                ...              ...        ...              ...   \n",
      "4608                 3                2         52               19   \n",
      "4609                 2                2         90               19   \n",
      "4610                 0                2         52               19   \n",
      "4611                 0                0         18               19   \n",
      "4612                 3                2         50               11   \n",
      "\n",
      "      employee_residence  company_location  company_size  \n",
      "0                     75                66             1  \n",
      "1                     75                66             1  \n",
      "2                     75                66             1  \n",
      "3                     29                25             1  \n",
      "4                     29                25             1  \n",
      "...                  ...               ...           ...  \n",
      "4608                  75                66             0  \n",
      "4609                  75                66             0  \n",
      "4610                  75                66             2  \n",
      "4611                  75                66             0  \n",
      "4612                  40                35             0  \n",
      "\n",
      "[4613 rows x 7 columns]\n",
      "0       100000\n",
      "1       128750\n",
      "2        79350\n",
      "3        73391\n",
      "4        67275\n",
      "         ...  \n",
      "4608    412000\n",
      "4609    151000\n",
      "4610    105000\n",
      "4611    100000\n",
      "4612     94665\n",
      "Name: salary_in_usd, Length: 4613, dtype: int64\n"
     ]
    }
   ],
   "source": [
    "feature_cols = ['experience_level','employment_type','job_title','salary_currency','employee_residence','company_location','company_size']\n",
    "X = data[feature_cols]\n",
    "Y = data['salary_in_usd']\n",
    "\n",
    "print(X)\n",
    "print(Y)\n",
    "\n"
   ]
  },
  {
   "cell_type": "code",
   "execution_count": 124,
   "metadata": {},
   "outputs": [],
   "source": [
    "X_train, X_test, Y_train, Y_test = train_test_split(X, Y, test_size=0.2, random_state=100)"
   ]
  },
  {
   "cell_type": "code",
   "execution_count": 125,
   "metadata": {},
   "outputs": [],
   "source": [
    "clf_entropy = DecisionTreeClassifier(criterion = \"entropy\", max_depth = 8)\n",
    "\n",
    "clf_entropy = clf_entropy.fit(X_train, Y_train)"
   ]
  },
  {
   "cell_type": "code",
   "execution_count": null,
   "metadata": {},
   "outputs": [],
   "source": [
    "y_pred = clf_entropy.predict(X_test)\n",
    "\n",
    "print(\"Accuracy:\",metrics.accuracy_score(Y_test, y_pred))"
   ]
  }
 ],
 "metadata": {
  "kernelspec": {
   "display_name": "Python 3",
   "language": "python",
   "name": "python3"
  },
  "language_info": {
   "codemirror_mode": {
    "name": "ipython",
    "version": 3
   },
   "file_extension": ".py",
   "mimetype": "text/x-python",
   "name": "python",
   "nbconvert_exporter": "python",
   "pygments_lexer": "ipython3",
   "version": "3.11.2"
  },
  "orig_nbformat": 4
 },
 "nbformat": 4,
 "nbformat_minor": 2
}
